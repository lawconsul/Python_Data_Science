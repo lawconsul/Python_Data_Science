{
 "cells": [
  {
   "cell_type": "code",
   "execution_count": 42,
   "metadata": {},
   "outputs": [],
   "source": [
    "###Задание 1\n",
    "#Импортируйте библиотеку Numpy и дайте ей псевдоним np.\n",
    "import numpy as np"
   ]
  },
  {
   "cell_type": "code",
   "execution_count": 43,
   "metadata": {},
   "outputs": [
    {
     "data": {
      "text/plain": [
       "array([2. , 8.8])"
      ]
     },
     "execution_count": 43,
     "metadata": {},
     "output_type": "execute_result"
    }
   ],
   "source": [
    "#Создайте массив Numpy под названием a размером 5x2, то есть состоящий из 5 строк и 2 столбцов.\n",
    "#Первый столбец должен содержать числа 1, 2, 3, 3, 1, а второй - числа 6, 8, 11, 10, 7.\n",
    "#Будем считать, что каждый столбец - это признак, а строка - наблюдение.\n",
    "a = np.array((1,2,3,3,1,8,8,11,10,7))\n",
    "a = np.reshape(a, (2,5))\n",
    "a = a.T\n",
    "a\n",
    "#Затем найдите среднее значение по каждому признаку, используя метод mean массива Numpy.\n",
    "#Результат запишите в массив mean_a, в нем должно быть 2 элемента.\n",
    "mean_a = np.mean(a, axis=0)\n",
    "mean_a"
   ]
  },
  {
   "cell_type": "code",
   "execution_count": null,
   "metadata": {},
   "outputs": [],
   "source": []
  },
  {
   "cell_type": "code",
   "execution_count": 44,
   "metadata": {},
   "outputs": [
    {
     "data": {
      "text/plain": [
       "array([[-1. , -0.8],\n",
       "       [ 0. , -0.8],\n",
       "       [ 1. ,  2.2],\n",
       "       [ 1. ,  1.2],\n",
       "       [-1. , -1.8]])"
      ]
     },
     "execution_count": 44,
     "metadata": {},
     "output_type": "execute_result"
    }
   ],
   "source": [
    "###Задание 2\n",
    "# Вычислите массив a_centered, отняв от значений массива а \n",
    "# средние значения соответствующих признаков, содержащиеся в массиве mean_a.\n",
    "# Вычисление должно производиться в одно действие.\n",
    "# Получившийся массив должен иметь размер 5x2.\n",
    "a_centered = a - mean_a\n",
    "a_centered"
   ]
  },
  {
   "cell_type": "code",
   "execution_count": null,
   "metadata": {},
   "outputs": [],
   "source": []
  },
  {
   "cell_type": "code",
   "execution_count": 66,
   "metadata": {},
   "outputs": [
    {
     "name": "stdout",
     "output_type": "stream",
     "text": [
      "Несмещенная оценка: 1.5\n"
     ]
    }
   ],
   "source": [
    "### Задание 3\n",
    "# Найдите скалярное произведение столбцов массива a_centered.\n",
    "# В результате должна получиться величина a_centered_sp. \n",
    "# Затем поделите a_centered_sp на N-1, где N - число наблюдений.\n",
    "a_centered_sp = np.dot(a_centered[:,0], a_centered[:,1])\n",
    "N = np.size(a[:,0])\n",
    "sigma_sq = a_centered_sp / (N-1)\n",
    "print(f'Несмещенная оценка: {sigma_sq}')"
   ]
  },
  {
   "cell_type": "code",
   "execution_count": null,
   "metadata": {},
   "outputs": [],
   "source": []
  },
  {
   "cell_type": "code",
   "execution_count": 67,
   "metadata": {},
   "outputs": [
    {
     "name": "stdout",
     "output_type": "stream",
     "text": [
      "a_covT: \n",
      " [[1.  1.5]\n",
      " [1.5 2.7]]\n",
      "a_cov: 1.5\n",
      "True\n"
     ]
    }
   ],
   "source": [
    "### * Задание 4\n",
    "# Число, которое мы получили в конце задания 3 является \n",
    "# ковариацией двух признаков, содержащихся в массиве а.\n",
    "# В задании 3 мы делили сумму произведений центрированных \n",
    "# признаков на N-1, а не на N, поэтому полученная нами величина \n",
    "# является несмещенной оценкой ковариации.\n",
    "# Подробнее узнать о ковариации можно здесь:\n",
    "# https://studopedia.ru/9_153900_viborochnaya-kovariatsiya-i-viborochnaya-dispersiya.html\n",
    "# В этом задании проверьте получившееся число, вычислив\n",
    "# ковариацию еще одним способом - с помощью функции np.cov.\n",
    "# В качестве аргумента m функция np.cov должна принимать транспонированный массив a.\n",
    "# В получившейся ковариационной матрице (массив Numpy размером 2x2) искомое значение \n",
    "# ковариации будет равно элементу в строке с индексом 0 и столбце с индексом 1.\n",
    "a_covT = np.cov(m=a.T)\n",
    "print(f'a_covT: \\n {a_covT}')\n",
    "a_cov = a_covT[0,1]\n",
    "print(f'a_cov: {a_cov}')\n",
    "print(sigma_sq == a_cov)"
   ]
  }
 ],
 "metadata": {
  "kernelspec": {
   "display_name": "Python 3",
   "language": "python",
   "name": "python3"
  },
  "language_info": {
   "codemirror_mode": {
    "name": "ipython",
    "version": 3
   },
   "file_extension": ".py",
   "mimetype": "text/x-python",
   "name": "python",
   "nbconvert_exporter": "python",
   "pygments_lexer": "ipython3",
   "version": "3.6.5"
  }
 },
 "nbformat": 4,
 "nbformat_minor": 2
}
